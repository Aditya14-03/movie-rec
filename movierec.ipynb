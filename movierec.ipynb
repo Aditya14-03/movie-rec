{
  "nbformat": 4,
  "nbformat_minor": 0,
  "metadata": {
    "colab": {
      "provenance": []
    },
    "kernelspec": {
      "name": "python3",
      "display_name": "Python 3"
    },
    "language_info": {
      "name": "python"
    }
  },
  "cells": [
    {
      "cell_type": "code",
      "source": [
        "!pip install fuzzywuzzy"
      ],
      "metadata": {
        "colab": {
          "base_uri": "https://localhost:8080/"
        },
        "id": "fSfRD31vMTGq",
        "outputId": "f8f6a757-1669-47a6-84f3-bb2719b13fc2"
      },
      "execution_count": null,
      "outputs": [
        {
          "output_type": "stream",
          "name": "stdout",
          "text": [
            "Collecting fuzzywuzzy\n",
            "  Downloading fuzzywuzzy-0.18.0-py2.py3-none-any.whl (18 kB)\n",
            "Installing collected packages: fuzzywuzzy\n",
            "Successfully installed fuzzywuzzy-0.18.0\n"
          ]
        }
      ]
    },
    {
      "cell_type": "code",
      "source": [
        "#collaborative filtering"
      ],
      "metadata": {
        "id": "H5uaTvQwzN1D"
      },
      "execution_count": null,
      "outputs": []
    },
    {
      "cell_type": "code",
      "execution_count": null,
      "metadata": {
        "id": "LvXr05WttRog",
        "colab": {
          "base_uri": "https://localhost:8080/"
        },
        "outputId": "ec099ae4-ece5-4543-f810-d843e3ade48b"
      },
      "outputs": [
        {
          "output_type": "stream",
          "name": "stderr",
          "text": [
            "/usr/local/lib/python3.10/dist-packages/fuzzywuzzy/fuzz.py:11: UserWarning: Using slow pure-python SequenceMatcher. Install python-Levenshtein to remove this warning\n",
            "  warnings.warn('Using slow pure-python SequenceMatcher. Install python-Levenshtein to remove this warning')\n"
          ]
        }
      ],
      "source": [
        "import pandas as pd\n",
        "from scipy.sparse import csr_matrix\n",
        "from sklearn.neighbors import NearestNeighbors\n",
        "from fuzzywuzzy import process"
      ]
    },
    {
      "cell_type": "code",
      "source": [
        "movies2 = pd.read_csv('/content/movies.csv', usecols=['movieId', 'title'], dtype={'movieId':'int32', 'title':'str'})\n",
        "ratings2 = pd.read_csv('/content/ratings.csv', usecols=['userId', 'movieId', 'rating'], dtype={'userId':'int32', 'movieId':'int32', 'rating':'float64'}).fillna(0)\n",
        "movies2_users = ratings2.pivot(index='movieId', columns='userId', values='rating').fillna(0)\n",
        "movies2_matrix = csr_matrix(movies2_users.values)"
      ],
      "metadata": {
        "id": "r2oXTNSbt4Ap"
      },
      "execution_count": null,
      "outputs": []
    },
    {
      "cell_type": "code",
      "source": [
        "knn = NearestNeighbors(metric='cosine', algorithm='auto', n_neighbors=20)\n",
        "knn.fit(movies2_matrix)"
      ],
      "metadata": {
        "id": "gRlBc0f6ugFm",
        "colab": {
          "base_uri": "https://localhost:8080/",
          "height": 74
        },
        "outputId": "484e307b-70a5-4e35-806e-f7016250a8e2"
      },
      "execution_count": null,
      "outputs": [
        {
          "output_type": "execute_result",
          "data": {
            "text/plain": [
              "NearestNeighbors(metric='cosine', n_neighbors=20)"
            ],
            "text/html": [
              "<style>#sk-container-id-1 {color: black;background-color: white;}#sk-container-id-1 pre{padding: 0;}#sk-container-id-1 div.sk-toggleable {background-color: white;}#sk-container-id-1 label.sk-toggleable__label {cursor: pointer;display: block;width: 100%;margin-bottom: 0;padding: 0.3em;box-sizing: border-box;text-align: center;}#sk-container-id-1 label.sk-toggleable__label-arrow:before {content: \"▸\";float: left;margin-right: 0.25em;color: #696969;}#sk-container-id-1 label.sk-toggleable__label-arrow:hover:before {color: black;}#sk-container-id-1 div.sk-estimator:hover label.sk-toggleable__label-arrow:before {color: black;}#sk-container-id-1 div.sk-toggleable__content {max-height: 0;max-width: 0;overflow: hidden;text-align: left;background-color: #f0f8ff;}#sk-container-id-1 div.sk-toggleable__content pre {margin: 0.2em;color: black;border-radius: 0.25em;background-color: #f0f8ff;}#sk-container-id-1 input.sk-toggleable__control:checked~div.sk-toggleable__content {max-height: 200px;max-width: 100%;overflow: auto;}#sk-container-id-1 input.sk-toggleable__control:checked~label.sk-toggleable__label-arrow:before {content: \"▾\";}#sk-container-id-1 div.sk-estimator input.sk-toggleable__control:checked~label.sk-toggleable__label {background-color: #d4ebff;}#sk-container-id-1 div.sk-label input.sk-toggleable__control:checked~label.sk-toggleable__label {background-color: #d4ebff;}#sk-container-id-1 input.sk-hidden--visually {border: 0;clip: rect(1px 1px 1px 1px);clip: rect(1px, 1px, 1px, 1px);height: 1px;margin: -1px;overflow: hidden;padding: 0;position: absolute;width: 1px;}#sk-container-id-1 div.sk-estimator {font-family: monospace;background-color: #f0f8ff;border: 1px dotted black;border-radius: 0.25em;box-sizing: border-box;margin-bottom: 0.5em;}#sk-container-id-1 div.sk-estimator:hover {background-color: #d4ebff;}#sk-container-id-1 div.sk-parallel-item::after {content: \"\";width: 100%;border-bottom: 1px solid gray;flex-grow: 1;}#sk-container-id-1 div.sk-label:hover label.sk-toggleable__label {background-color: #d4ebff;}#sk-container-id-1 div.sk-serial::before {content: \"\";position: absolute;border-left: 1px solid gray;box-sizing: border-box;top: 0;bottom: 0;left: 50%;z-index: 0;}#sk-container-id-1 div.sk-serial {display: flex;flex-direction: column;align-items: center;background-color: white;padding-right: 0.2em;padding-left: 0.2em;position: relative;}#sk-container-id-1 div.sk-item {position: relative;z-index: 1;}#sk-container-id-1 div.sk-parallel {display: flex;align-items: stretch;justify-content: center;background-color: white;position: relative;}#sk-container-id-1 div.sk-item::before, #sk-container-id-1 div.sk-parallel-item::before {content: \"\";position: absolute;border-left: 1px solid gray;box-sizing: border-box;top: 0;bottom: 0;left: 50%;z-index: -1;}#sk-container-id-1 div.sk-parallel-item {display: flex;flex-direction: column;z-index: 1;position: relative;background-color: white;}#sk-container-id-1 div.sk-parallel-item:first-child::after {align-self: flex-end;width: 50%;}#sk-container-id-1 div.sk-parallel-item:last-child::after {align-self: flex-start;width: 50%;}#sk-container-id-1 div.sk-parallel-item:only-child::after {width: 0;}#sk-container-id-1 div.sk-dashed-wrapped {border: 1px dashed gray;margin: 0 0.4em 0.5em 0.4em;box-sizing: border-box;padding-bottom: 0.4em;background-color: white;}#sk-container-id-1 div.sk-label label {font-family: monospace;font-weight: bold;display: inline-block;line-height: 1.2em;}#sk-container-id-1 div.sk-label-container {text-align: center;}#sk-container-id-1 div.sk-container {/* jupyter's `normalize.less` sets `[hidden] { display: none; }` but bootstrap.min.css set `[hidden] { display: none !important; }` so we also need the `!important` here to be able to override the default hidden behavior on the sphinx rendered scikit-learn.org. See: https://github.com/scikit-learn/scikit-learn/issues/21755 */display: inline-block !important;position: relative;}#sk-container-id-1 div.sk-text-repr-fallback {display: none;}</style><div id=\"sk-container-id-1\" class=\"sk-top-container\"><div class=\"sk-text-repr-fallback\"><pre>NearestNeighbors(metric=&#x27;cosine&#x27;, n_neighbors=20)</pre><b>In a Jupyter environment, please rerun this cell to show the HTML representation or trust the notebook. <br />On GitHub, the HTML representation is unable to render, please try loading this page with nbviewer.org.</b></div><div class=\"sk-container\" hidden><div class=\"sk-item\"><div class=\"sk-estimator sk-toggleable\"><input class=\"sk-toggleable__control sk-hidden--visually\" id=\"sk-estimator-id-1\" type=\"checkbox\" checked><label for=\"sk-estimator-id-1\" class=\"sk-toggleable__label sk-toggleable__label-arrow\">NearestNeighbors</label><div class=\"sk-toggleable__content\"><pre>NearestNeighbors(metric=&#x27;cosine&#x27;, n_neighbors=20)</pre></div></div></div></div></div>"
            ]
          },
          "metadata": {},
          "execution_count": 4
        }
      ]
    },
    {
      "cell_type": "code",
      "source": [
        "def recommender1(matrix, user_input, movies2, model):\n",
        "  movie_index = process.extractOne(user_input, movies2['title'])[2]\n",
        "  dist, idc = model.kneighbors(matrix[movie_index], n_neighbors=6)\n",
        "  idc = idc[0][idc[0] != movie_index]\n",
        "  for i in idc:\n",
        "    print(movies2['title'][i])"
      ],
      "metadata": {
        "id": "oqWMLhAUu18G"
      },
      "execution_count": null,
      "outputs": []
    },
    {
      "cell_type": "code",
      "source": [
        "#content based filtering"
      ],
      "metadata": {
        "id": "3Ujhwx_xavuY"
      },
      "execution_count": null,
      "outputs": []
    },
    {
      "cell_type": "code",
      "source": [
        "movies = pd.read_csv('/content/movies.csv')\n",
        "ratings = pd.read_csv('/content/ratings.csv')\n",
        "movies['year'] = movies.title.str.extract('(\\(\\d\\d\\d\\d\\))',expand=False)\n",
        "movies['year'] = movies.year.str.extract('(\\d\\d\\d\\d)', expand=False)\n",
        "movies['title'] = movies.title.str.replace('(\\(\\d\\d\\d\\d\\))', '', regex=True)\n",
        "movies['title'] = movies['title'].apply(lambda x: x.strip())\n",
        "movies['title'] = movies.title.str.lower()\n",
        "movies['genres'] = movies.genres.str.split('|')"
      ],
      "metadata": {
        "id": "YllztSsrzXSB"
      },
      "execution_count": null,
      "outputs": []
    },
    {
      "cell_type": "code",
      "source": [
        "for index, row in movies.iterrows():\n",
        "    for genre in row['genres']:\n",
        "        movies.at[index, genre] = 1\n",
        "movies = movies.fillna(0)\n",
        "#rating dataset\n",
        "ratings = ratings.drop('timestamp', axis=1)"
      ],
      "metadata": {
        "id": "u3YZBPg2zu0Q"
      },
      "execution_count": null,
      "outputs": []
    },
    {
      "cell_type": "code",
      "source": [
        "user_input = []\n",
        "while True:\n",
        "  movie_title = input(\"Enter movie title (or 'q' to quit): \").lower()\n",
        "  if movie_title == 'q':\n",
        "    break\n",
        "  rating = float(input(\"Enter rating (1-5): \"))\n",
        "  user_input.append({'title': movie_title, 'rating': rating})\n",
        "input_movies = pd.DataFrame(user_input)\n",
        "user_input2 = input_movies.iloc[0]['title']"
      ],
      "metadata": {
        "colab": {
          "base_uri": "https://localhost:8080/"
        },
        "id": "dQjTr-HLem5a",
        "outputId": "9f057c25-3e54-412f-c742-483fd5fb9de7"
      },
      "execution_count": null,
      "outputs": [
        {
          "name": "stdout",
          "output_type": "stream",
          "text": [
            "Enter movie title (or 'q' to quit): drive\n",
            "Enter rating (1-5): 5\n",
            "Enter movie title (or 'q' to quit): toy story\n",
            "Enter rating (1-5): 4.5\n",
            "Enter movie title (or 'q' to quit): jumanji\n",
            "Enter rating (1-5): 2\n",
            "Enter movie title (or 'q' to quit): q\n"
          ]
        }
      ]
    },
    {
      "cell_type": "code",
      "source": [
        "input_id = movies[movies['title'].isin(input_movies['title'].to_list())]\n",
        "movie_input = pd.merge(input_id, input_movies)\n",
        "movie_input = movie_input.drop('genres', axis=1).drop('year', axis=1)\n",
        "user_movies  = movies[movies['movieId'].isin(movie_input['movieId'].tolist())]\n",
        "user_movies = user_movies.reset_index(drop=True)\n",
        "user_genres = user_movies.drop('movieId', axis=1).drop('title', axis=1).drop('genres', axis=1).drop('year', axis=1)\n",
        "user_profile = user_genres.transpose().dot(movie_input['rating'])\n",
        "genre_df = movies.set_index(movies['movieId'])\n",
        "genre_df = genre_df.drop('movieId', axis=1).drop('title', axis=1).drop('genres', axis=1).drop('year', axis=1)"
      ],
      "metadata": {
        "id": "JQh_GEaF0DXC"
      },
      "execution_count": null,
      "outputs": []
    },
    {
      "cell_type": "code",
      "source": [
        "def recommender2(genres, user, movies):\n",
        "  rec_movies = ((genres*user).sum(axis=1))/(user.sum())\n",
        "  rec_movies = rec_movies.sort_values(ascending=False)\n",
        "  recommendations = movies.loc[movies['movieId'].isin(rec_movies.head().keys())]['title'].tolist()\n",
        "  for movie_name in recommendations:\n",
        "    print(movie_name)"
      ],
      "metadata": {
        "id": "3bqXluOj0bHr"
      },
      "execution_count": null,
      "outputs": []
    },
    {
      "cell_type": "code",
      "source": [
        "print(\"Top recommendations.....\")\n",
        "recommender2(genre_df, user_profile, movies)\n",
        "print(\"What other users liked....\")\n",
        "recommender1(movies2_matrix, user_input2, movies2, knn)"
      ],
      "metadata": {
        "colab": {
          "base_uri": "https://localhost:8080/"
        },
        "id": "gCc5Uz6TxTtD",
        "outputId": "01b0cecb-378b-42cb-fa77-df87d327a9ab"
      },
      "execution_count": null,
      "outputs": [
        {
          "output_type": "stream",
          "name": "stdout",
          "text": [
            "Top recommendations.....\n",
            "watership down\n",
            "who framed roger rabbit?\n",
            "motorama\n",
            "wonderful world of the brothers grimm, the\n",
            "rubber\n",
            "What other users liked....\n",
            "Star Trek: Generations (1994)\n",
            "Hot Lead and Cold Feet (1978)\n",
            "Unforgiven (1992)\n",
            "Junior (1994)\n"
          ]
        }
      ]
    }
  ]
}